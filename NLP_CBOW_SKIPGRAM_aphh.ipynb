{
  "nbformat": 4,
  "nbformat_minor": 0,
  "metadata": {
    "colab": {
      "provenance": []
    },
    "kernelspec": {
      "name": "python3",
      "display_name": "Python 3"
    },
    "language_info": {
      "name": "python"
    }
  },
  "cells": [
    {
      "cell_type": "code",
      "execution_count": 2,
      "metadata": {
        "colab": {
          "base_uri": "https://localhost:8080/"
        },
        "id": "oi87WvZKvm6M",
        "outputId": "0ce7398d-767d-48a9-990e-4e9c45b86e62"
      },
      "outputs": [
        {
          "output_type": "stream",
          "name": "stdout",
          "text": [
            "Requirement already satisfied: numpy==1.23.5 in /usr/local/lib/python3.11/dist-packages (1.23.5)\n",
            "Collecting gensim\n",
            "  Using cached gensim-4.3.3-cp311-cp311-manylinux_2_17_x86_64.manylinux2014_x86_64.whl.metadata (8.1 kB)\n",
            "Requirement already satisfied: numpy<2.0,>=1.18.5 in /usr/local/lib/python3.11/dist-packages (from gensim) (1.23.5)\n",
            "Requirement already satisfied: scipy<1.14.0,>=1.7.0 in /usr/local/lib/python3.11/dist-packages (from gensim) (1.13.1)\n",
            "Requirement already satisfied: smart-open>=1.8.1 in /usr/local/lib/python3.11/dist-packages (from gensim) (7.1.0)\n",
            "Requirement already satisfied: wrapt in /usr/local/lib/python3.11/dist-packages (from smart-open>=1.8.1->gensim) (1.17.2)\n",
            "Using cached gensim-4.3.3-cp311-cp311-manylinux_2_17_x86_64.manylinux2014_x86_64.whl (26.7 MB)\n",
            "Installing collected packages: gensim\n",
            "Successfully installed gensim-4.3.3\n"
          ]
        }
      ],
      "source": [
        "!pip install numpy==1.23.5\n",
        "!pip install --upgrade gensim\n"
      ]
    },
    {
      "cell_type": "code",
      "source": [
        "import numpy as np\n",
        "import gensim.downloader as api\n",
        "from gensim.models import Word2Vec\n",
        "\n",
        "glove_path = api.load(\"glove-wiki-gigaword-100\", return_path=True)\n",
        "sentences  = api.load(\"text8\")\n"
      ],
      "metadata": {
        "colab": {
          "base_uri": "https://localhost:8080/"
        },
        "id": "ygub7F23voWX",
        "outputId": "af1cc639-279e-4a38-ef52-60024c63bb46"
      },
      "execution_count": 1,
      "outputs": [
        {
          "output_type": "stream",
          "name": "stdout",
          "text": [
            "[==================================================] 100.0% 128.1/128.1MB downloaded\n",
            "[==================================================] 100.0% 31.6/31.6MB downloaded\n"
          ]
        }
      ]
    },
    {
      "cell_type": "code",
      "source": [
        "def train_w2v(sentences, sg, vector_size=100, window=5, min_count=5, epochs=5, workers=4):\n",
        "\n",
        "    model = Word2Vec(vector_size=vector_size,\n",
        "                     window=window,\n",
        "                     min_count=min_count,\n",
        "                     sg=sg,               # 1 = Skip‑gram || 0 = CBOW\n",
        "                     workers=workers)\n",
        "\n",
        "    model.build_vocab(sentences)\n",
        "\n",
        "    model.wv.vectors_lockf = np.ones(len(model.wv), dtype=np.float32)\n",
        "\n",
        "    model.wv.intersect_word2vec_format(glove_path, binary=0)\n",
        "\n",
        "\n",
        "    model.train(sentences, total_examples=model.corpus_count, epochs=epochs)\n",
        "\n",
        "    return model"
      ],
      "metadata": {
        "id": "TFpewhWavzZb"
      },
      "execution_count": 2,
      "outputs": []
    },
    {
      "cell_type": "code",
      "source": [
        "def train_skipgram(sentences, **kw):\n",
        "    return train_w2v(sentences, sg=1, **kw)\n",
        "\n",
        "\n",
        "def train_cbow(sentences, **kw):\n",
        "    return train_w2v(sentences, sg=0, **kw)"
      ],
      "metadata": {
        "id": "1zXGX-2_wi_x"
      },
      "execution_count": 5,
      "outputs": []
    },
    {
      "cell_type": "code",
      "source": [
        "print(\"Training Skip‑gram …\")\n",
        "skipgram_model = train_skipgram(sentences)\n",
        "\n",
        "print(\"Training CBOW …\")\n",
        "cbow_model = train_cbow(sentences)"
      ],
      "metadata": {
        "colab": {
          "base_uri": "https://localhost:8080/"
        },
        "id": "DDl82WYQwoCQ",
        "outputId": "865acf71-ec4a-49e7-aed3-3d0081ab362c"
      },
      "execution_count": 6,
      "outputs": [
        {
          "output_type": "stream",
          "name": "stdout",
          "text": [
            "Training Skip‑gram …\n",
            "Training CBOW …\n"
          ]
        }
      ]
    },
    {
      "cell_type": "code",
      "source": [
        "pred = \"computer\"\n",
        "print(\"Skip‑gram neighbours of \", pred)\n",
        "print(skipgram_model.wv.most_similar(pred, topn=5))"
      ],
      "metadata": {
        "colab": {
          "base_uri": "https://localhost:8080/"
        },
        "id": "InCLYjTewtf_",
        "outputId": "2892533b-1098-4f9d-c164-b9d6a14c8975"
      },
      "execution_count": 7,
      "outputs": [
        {
          "output_type": "stream",
          "name": "stdout",
          "text": [
            "Skip‑gram neighbours of  computer\n",
            "[('computers', 0.8751984238624573), ('software', 0.8373122215270996), ('technology', 0.7642159461975098), ('pc', 0.7366448640823364), ('hardware', 0.7290390729904175)]\n"
          ]
        }
      ]
    },
    {
      "cell_type": "code",
      "source": [
        "pred = \"scorpion\"\n",
        "print(\"Skip‑gram neighbours of \", pred)\n",
        "print(skipgram_model.wv.most_similar(pred, topn=5))"
      ],
      "metadata": {
        "colab": {
          "base_uri": "https://localhost:8080/"
        },
        "id": "z5FskVGP22WE",
        "outputId": "ded19e81-ed0b-48ba-9a94-90919075e214"
      },
      "execution_count": 31,
      "outputs": [
        {
          "output_type": "stream",
          "name": "stdout",
          "text": [
            "Skip‑gram neighbours of  scorpion\n",
            "[('spider', 0.6373819708824158), ('snake', 0.6178805828094482), ('venom', 0.5878459215164185), ('dragonfly', 0.5768774151802063), ('tortoise', 0.5757177472114563)]\n"
          ]
        }
      ]
    },
    {
      "cell_type": "code",
      "source": [
        "pred = \"dam\"\n",
        "print(\"Skip‑gram neighbours of \", pred)\n",
        "print(skipgram_model.wv.most_similar(pred, topn=5))"
      ],
      "metadata": {
        "colab": {
          "base_uri": "https://localhost:8080/"
        },
        "id": "1yJae2FR27ZD",
        "outputId": "2cf5c172-9cc0-48ac-b5bd-8f4e42d9a478"
      },
      "execution_count": 34,
      "outputs": [
        {
          "output_type": "stream",
          "name": "stdout",
          "text": [
            "Skip‑gram neighbours of  dam\n",
            "[('reservoir', 0.8164873719215393), ('dams', 0.7653598189353943), ('hydroelectric', 0.7307214736938477), ('gorges', 0.7190767526626587), ('embankment', 0.6634266376495361)]\n"
          ]
        }
      ]
    },
    {
      "cell_type": "code",
      "source": [
        "ctx = [\"football\", \"is\", \"entertaining\", \"sport\"]\n",
        "print(\"CBOW neighbours of\", ctx)\n",
        "print(cbow_model.wv.most_similar(positive=ctx, topn=5))"
      ],
      "metadata": {
        "colab": {
          "base_uri": "https://localhost:8080/"
        },
        "id": "dHmMm0wQ0UsF",
        "outputId": "7dcd9a69-28e8-4b23-f029-b6b31023e6e9"
      },
      "execution_count": 25,
      "outputs": [
        {
          "output_type": "stream",
          "name": "stdout",
          "text": [
            "CBOW neighbours of ['football', 'is', 'entertaining', 'sport']\n",
            "[('sports', 0.7905215620994568), ('well', 0.7405361533164978), ('soccer', 0.7400915026664734), ('play', 0.7296680808067322), ('good', 0.7275350689888)]\n"
          ]
        }
      ]
    },
    {
      "cell_type": "code",
      "source": [
        "vecs = [cbow_model.wv.get_vector(w, norm=True) for w in ctx if w in cbow_model.wv]\n",
        "query = np.sum(vecs, axis=0)\n",
        "query /= np.linalg.norm(query)\n",
        "raw = cbow_model.wv.similar_by_vector(query, topn=len(ctx) + 5)\n",
        "filtered = [(w, s) for w, s in raw if w not in ctx][:5]\n",
        "print(\"via NP manually\")\n",
        "print(filtered)"
      ],
      "metadata": {
        "colab": {
          "base_uri": "https://localhost:8080/"
        },
        "id": "8co86UhN0emI",
        "outputId": "d9882236-562a-4c50-ded0-e18547deaa4c"
      },
      "execution_count": 27,
      "outputs": [
        {
          "output_type": "stream",
          "name": "stdout",
          "text": [
            "via NP manually\n",
            "[('sports', 0.7905215620994568), ('well', 0.7405362129211426), ('soccer', 0.7400915026664734), ('play', 0.7296680808067322), ('good', 0.7275350689888)]\n"
          ]
        }
      ]
    },
    {
      "cell_type": "code",
      "source": [
        "ctx = [ \"magic\", \"magician\", \"play\", \"tricks\"]\n",
        "print(\"CBOW neighbours of\", ctx)\n",
        "print(cbow_model.wv.most_similar(positive=ctx, topn=5))"
      ],
      "metadata": {
        "colab": {
          "base_uri": "https://localhost:8080/"
        },
        "id": "4elwtOaj1nct",
        "outputId": "e28ed13f-5c59-4804-8b83-d2bd1bd8d014"
      },
      "execution_count": 29,
      "outputs": [
        {
          "output_type": "stream",
          "name": "stdout",
          "text": [
            "CBOW neighbours of ['magic', 'magician', 'play', 'tricks']\n",
            "[('trick', 0.7602158188819885), ('magical', 0.6949593424797058), ('playing', 0.670497715473175), ('luck', 0.6365276575088501), ('game', 0.6365230679512024)]\n"
          ]
        }
      ]
    },
    {
      "cell_type": "code",
      "source": [
        "from numpy.linalg import norm\n",
        "\n",
        "vecs = [cbow_model.wv.get_vector(w, norm=True) for w in ctx if w in cbow_model.wv]\n",
        "query = np.sum(vecs, axis=0)\n",
        "query /= np.linalg.norm(query)\n",
        "raw = cbow_model.wv.similar_by_vector(query, topn=len(ctx) + 5)\n",
        "filtered = [(w, s) for w, s in raw if w not in ctx][:5]\n",
        "print(\"via NP manually\")\n",
        "print(filtered)"
      ],
      "metadata": {
        "colab": {
          "base_uri": "https://localhost:8080/"
        },
        "id": "DQcD8EVg0ztY",
        "outputId": "f5547331-725c-4d00-ca15-e74e52be40f9"
      },
      "execution_count": 30,
      "outputs": [
        {
          "output_type": "stream",
          "name": "stdout",
          "text": [
            "via NP manually\n",
            "[('trick', 0.7602158188819885), ('magical', 0.6949593424797058), ('playing', 0.670497715473175), ('luck', 0.6365276575088501), ('game', 0.6365230679512024)]\n"
          ]
        }
      ]
    },
    {
      "cell_type": "code",
      "source": [],
      "metadata": {
        "id": "lTzVZz7U1fpM"
      },
      "execution_count": null,
      "outputs": []
    }
  ]
}